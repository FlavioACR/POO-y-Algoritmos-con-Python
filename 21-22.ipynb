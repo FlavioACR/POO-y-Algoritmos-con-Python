{
 "cells": [
  {
   "cell_type": "code",
   "metadata": {
    "cell_id": "23d2b56d36fc440f80594c00602ce161",
    "tags": [],
    "deepnote_cell_type": "code",
    "deepnote_cell_height": 66
   },
   "source": "# La clase 21 fue tema de por que graficas no se practico.",
   "execution_count": null,
   "outputs": []
  },
  {
   "cell_type": "code",
   "metadata": {
    "cell_id": "ed4f27fa41f24776bbaa43227eedd42b",
    "tags": [],
    "deepnote_cell_type": "code",
    "deepnote_cell_height": 210
   },
   "source": "# Graficado simple\n'''\n* Bokeh permite construir graficas complejas de manera rapida y con comandos simples\n* Exporta a varios formatos como; html, notebook, imagenes, etc.\n* Bokeh se puede utilizar en el servidor con Flask y Django. (Manda Graficos atraves de un API)\n\nNO por que puedas hacer algo es necesario hacerlo, se debe de adecuar a tu situación de codigo o análisis.\n    \n'''",
   "execution_count": null,
   "outputs": []
  },
  {
   "cell_type": "code",
   "source": "# Crear un directorio graficado y crear un ambiente virtual despue de eso agregar el archivo:\n# graficado_simple.py",
   "metadata": {
    "cell_id": "e9d3bdb4fda246b38f2c6ce618c2593f",
    "tags": [],
    "deepnote_to_be_reexecuted": false,
    "source_hash": "68159340",
    "execution_start": 1653663066173,
    "deepnote_cell_type": "code",
    "deepnote_cell_height": 99
   },
   "outputs": [],
   "execution_count": null
  },
  {
   "cell_type": "code",
   "source": "!pip install bokeh",
   "metadata": {
    "cell_id": "fec16fe8af724b718ff6ab75a5e42fec",
    "tags": [],
    "deepnote_to_be_reexecuted": false,
    "source_hash": "6188ad2f",
    "execution_start": 1653663549644,
    "execution_millis": 14869,
    "deepnote_cell_type": "code",
    "deepnote_cell_height": 504.375
   },
   "outputs": [
    {
     "name": "stdout",
     "text": "Collecting bokeh\n  Downloading bokeh-2.4.3-py3-none-any.whl (18.5 MB)\n\u001b[K     |████████████████████████████████| 18.5 MB 21.6 MB/s \n\u001b[?25hRequirement already satisfied: packaging>=16.8 in /shared-libs/python3.7/py/lib/python3.7/site-packages (from bokeh) (21.3)\nRequirement already satisfied: pillow>=7.1.0 in /shared-libs/python3.7/py/lib/python3.7/site-packages (from bokeh) (9.1.0)\nRequirement already satisfied: numpy>=1.11.3 in /shared-libs/python3.7/py/lib/python3.7/site-packages (from bokeh) (1.21.6)\nCollecting PyYAML>=3.10\n  Downloading PyYAML-6.0-cp37-cp37m-manylinux_2_5_x86_64.manylinux1_x86_64.manylinux_2_12_x86_64.manylinux2010_x86_64.whl (596 kB)\n\u001b[K     |████████████████████████████████| 596 kB 10.2 MB/s \n\u001b[?25hRequirement already satisfied: Jinja2>=2.9 in /shared-libs/python3.7/py-core/lib/python3.7/site-packages (from bokeh) (2.11.3)\nRequirement already satisfied: tornado>=5.1 in /shared-libs/python3.7/py-core/lib/python3.7/site-packages (from bokeh) (6.1)\nRequirement already satisfied: typing-extensions>=3.10.0 in /shared-libs/python3.7/py-core/lib/python3.7/site-packages (from bokeh) (4.2.0)\nRequirement already satisfied: pyparsing!=3.0.5,>=2.0.2 in /shared-libs/python3.7/py/lib/python3.7/site-packages (from packaging>=16.8->bokeh) (3.0.8)\nRequirement already satisfied: MarkupSafe>=0.23 in /shared-libs/python3.7/py-core/lib/python3.7/site-packages (from Jinja2>=2.9->bokeh) (2.0.1)\nInstalling collected packages: PyYAML, bokeh\nSuccessfully installed PyYAML-6.0 bokeh-2.4.3\n\u001b[33mWARNING: You are using pip version 20.1.1; however, version 22.1.1 is available.\nYou should consider upgrading via the '/root/venv/bin/python -m pip install --upgrade pip' command.\u001b[0m\n",
     "output_type": "stream"
    }
   ],
   "execution_count": null
  },
  {
   "cell_type": "code",
   "source": "import bokeh\nfrom bokeh.plotting import figure, output_file, show\n'''\nfigure: Es la ventada dentro de la cual se va a graficar\noutput_file: Determina el nombre del archivo que se generará formato (htlm)\nshow: Genera un servidor que se prende y muestra el archivo ne el browser\n \nActivar el ambiente y ejecutar'''\n\nif __name__ == '__main__':\n    output_file('graficado_s.html')\n    fig = figure()\n    \n    total_vals = int(input(\"Cuantos valores quieres graficar\"))\n    x_v = list(range(total_vals))\n    y_v = []\n\n    for x in range(total_vals):\n        val = int(input(f'valor y para {x}'))\n        y_v.append(val)\n    \n    fig.line(x_v, y_v, line_width=2)\n    show(fig)",
   "metadata": {
    "cell_id": "fc6c685a0e1248139d17420b5bc1c1b0",
    "tags": [],
    "deepnote_to_be_reexecuted": false,
    "source_hash": "37ca6f9f",
    "execution_start": 1653663826506,
    "execution_millis": 16400,
    "owner_user_id": "46fc49a6-85dd-4f3e-a856-828c508d5f95",
    "deepnote_cell_type": "code",
    "deepnote_cell_height": 477,
    "deepnote_output_heights": [
     193.875
    ]
   },
   "outputs": [],
   "execution_count": null
  },
  {
   "cell_type": "markdown",
   "source": "<a style='text-decoration:none;line-height:16px;display:flex;color:#5B5B62;padding:10px;justify-content:end;' href='https://deepnote.com?utm_source=created-in-deepnote-cell&projectId=5b0cea17-0b1d-4042-984f-893f19250b78' target=\"_blank\">\n<img alt='Created in deepnote.com' style='display:inline;max-height:16px;margin:0px;margin-right:7.5px;' src='data:image/svg+xml;base64,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' > </img>\nCreated in <span style='font-weight:600;margin-left:4px;'>Deepnote</span></a>",
   "metadata": {
    "tags": [],
    "created_in_deepnote_cell": true,
    "deepnote_cell_type": "markdown"
   }
  }
 ],
 "nbformat": 4,
 "nbformat_minor": 2,
 "metadata": {
  "orig_nbformat": 2,
  "deepnote": {},
  "deepnote_notebook_id": "b13f86c0-75e2-4510-87bb-82910a7aa74d",
  "deepnote_execution_queue": []
 }
}